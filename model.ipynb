{
 "metadata": {
  "language_info": {
   "codemirror_mode": {
    "name": "ipython",
    "version": 3
   },
   "file_extension": ".py",
   "mimetype": "text/x-python",
   "name": "python",
   "nbconvert_exporter": "python",
   "pygments_lexer": "ipython3",
   "version": "3.8.3-final"
  },
  "orig_nbformat": 2,
  "kernelspec": {
   "name": "python_defaultSpec_1599223066950",
   "display_name": "Python 3.8.3 64-bit ('base': conda)"
  }
 },
 "nbformat": 4,
 "nbformat_minor": 2,
 "cells": [
  {
   "cell_type": "code",
   "execution_count": 14,
   "metadata": {},
   "outputs": [],
   "source": [
    "import tensorflow as tf \n",
    "from tensorflow.keras.models import Sequential\n",
    "from tensorflow.keras.layers import Dense, Dropout, Activation, Flatten, Conv2D, MaxPool2D\n",
    "import pickle\n",
    "import time\n",
    "from tensorflow.keras.callbacks import TensorBoard\n",
    "import numpy as np \n",
    "import cv2"
   ]
  },
  {
   "cell_type": "code",
   "execution_count": 15,
   "metadata": {},
   "outputs": [],
   "source": [
    "X_train = pickle.load(open(\"D:\\projects\\Scenic images\\Xtrain.pickle\",\"rb\"))\n",
    "y_train = pickle.load(open('D:\\projects\\Scenic images\\ytrain.pickle',\"rb\"))\n",
    "\n",
    "X_test = pickle.load(open(\"D:\\projects\\Scenic images\\Xtest.pickle\",\"rb\"))\n",
    "y_test = pickle.load(open('D:\\projects\\Scenic images\\ytest.pickle',\"rb\"))"
   ]
  },
  {
   "cell_type": "code",
   "execution_count": 16,
   "metadata": {},
   "outputs": [],
   "source": [
    "X_train = X_train/255.0\n",
    "X_test = X_test/255.0"
   ]
  },
  {
   "cell_type": "code",
   "execution_count": 17,
   "metadata": {
    "tags": []
   },
   "outputs": [
    {
     "output_type": "stream",
     "name": "stdout",
     "text": "Model: \"sequential_2\"\n_________________________________________________________________\nLayer (type)                 Output Shape              Param #   \n=================================================================\nconv2d_11 (Conv2D)           (None, 148, 148, 32)      320       \n_________________________________________________________________\nconv2d_12 (Conv2D)           (None, 146, 146, 32)      9248      \n_________________________________________________________________\nmax_pooling2d_4 (MaxPooling2 (None, 73, 73, 32)        0         \n_________________________________________________________________\nconv2d_13 (Conv2D)           (None, 71, 71, 64)        18496     \n_________________________________________________________________\nconv2d_14 (Conv2D)           (None, 69, 69, 64)        36928     \n_________________________________________________________________\nmax_pooling2d_5 (MaxPooling2 (None, 34, 34, 64)        0         \n_________________________________________________________________\nconv2d_15 (Conv2D)           (None, 32, 32, 128)       73856     \n_________________________________________________________________\nconv2d_16 (Conv2D)           (None, 30, 30, 128)       147584    \n_________________________________________________________________\nconv2d_17 (Conv2D)           (None, 28, 28, 128)       147584    \n_________________________________________________________________\nmax_pooling2d_6 (MaxPooling2 (None, 14, 14, 128)       0         \n_________________________________________________________________\nflatten_2 (Flatten)          (None, 25088)             0         \n_________________________________________________________________\ndropout_4 (Dropout)          (None, 25088)             0         \n_________________________________________________________________\ndense_6 (Dense)              (None, 1000)              25089000  \n_________________________________________________________________\ndropout_5 (Dropout)          (None, 1000)              0         \n_________________________________________________________________\ndense_7 (Dense)              (None, 1000)              1001000   \n_________________________________________________________________\ndense_8 (Dense)              (None, 6)                 6006      \n=================================================================\nTotal params: 26,530,022\nTrainable params: 26,530,022\nNon-trainable params: 0\n_________________________________________________________________\nEpoch 1/20\n  2/307 [..............................] - ETA: 3:06 - loss: 1.7987 - accuracy: 0.1406WARNING:tensorflow:Callbacks method `on_train_batch_end` is slow compared to the batch time (batch time: 0.0280s vs `on_train_batch_end` time: 1.1429s). Check your callbacks.\n307/307 [==============================] - 32s 103ms/step - loss: 1.2942 - accuracy: 0.4568 - val_loss: 0.9545 - val_accuracy: 0.6094\nEpoch 2/20\n307/307 [==============================] - 30s 98ms/step - loss: 0.9446 - accuracy: 0.6123 - val_loss: 0.7851 - val_accuracy: 0.6837\nEpoch 3/20\n307/307 [==============================] - 30s 98ms/step - loss: 0.8501 - accuracy: 0.6592 - val_loss: 0.7432 - val_accuracy: 0.6929\nEpoch 4/20\n307/307 [==============================] - 30s 99ms/step - loss: 0.7784 - accuracy: 0.6971 - val_loss: 0.7230 - val_accuracy: 0.7233\nEpoch 5/20\n307/307 [==============================] - 30s 97ms/step - loss: 0.7391 - accuracy: 0.7179 - val_loss: 0.7021 - val_accuracy: 0.7184\nEpoch 6/20\n307/307 [==============================] - 30s 97ms/step - loss: 0.6625 - accuracy: 0.7482 - val_loss: 0.5936 - val_accuracy: 0.7749\nEpoch 7/20\n307/307 [==============================] - 30s 98ms/step - loss: 0.6280 - accuracy: 0.7643 - val_loss: 0.5818 - val_accuracy: 0.7763\nEpoch 8/20\n307/307 [==============================] - 30s 98ms/step - loss: 0.5879 - accuracy: 0.7804 - val_loss: 0.6016 - val_accuracy: 0.7649\nEpoch 9/20\n307/307 [==============================] - 28s 93ms/step - loss: 0.5406 - accuracy: 0.7983 - val_loss: 0.7803 - val_accuracy: 0.7262\nEpoch 10/20\n307/307 [==============================] - 28s 92ms/step - loss: 0.5161 - accuracy: 0.8108 - val_loss: 0.5952 - val_accuracy: 0.7799\nEpoch 11/20\n307/307 [==============================] - 29s 93ms/step - loss: 0.4934 - accuracy: 0.8135 - val_loss: 0.6150 - val_accuracy: 0.7720\nEpoch 12/20\n307/307 [==============================] - 29s 93ms/step - loss: 0.4548 - accuracy: 0.8291 - val_loss: 0.5716 - val_accuracy: 0.7908\nEpoch 13/20\n307/307 [==============================] - 29s 93ms/step - loss: 0.4254 - accuracy: 0.8386 - val_loss: 0.5749 - val_accuracy: 0.7853\nEpoch 14/20\n307/307 [==============================] - 28s 92ms/step - loss: 0.4114 - accuracy: 0.8472 - val_loss: 0.6035 - val_accuracy: 0.7920\nEpoch 15/20\n307/307 [==============================] - 28s 92ms/step - loss: 0.4007 - accuracy: 0.8546 - val_loss: 0.5884 - val_accuracy: 0.7965\nEpoch 16/20\n307/307 [==============================] - 28s 92ms/step - loss: 0.3902 - accuracy: 0.8600 - val_loss: 0.6081 - val_accuracy: 0.7856\nEpoch 17/20\n307/307 [==============================] - 28s 92ms/step - loss: 0.3652 - accuracy: 0.8636 - val_loss: 0.5851 - val_accuracy: 0.8015\nEpoch 18/20\n307/307 [==============================] - 28s 92ms/step - loss: 0.3631 - accuracy: 0.8654 - val_loss: 0.6140 - val_accuracy: 0.7829\nEpoch 19/20\n307/307 [==============================] - 29s 93ms/step - loss: 0.3320 - accuracy: 0.8787 - val_loss: 0.5709 - val_accuracy: 0.7984\nEpoch 20/20\n307/307 [==============================] - 29s 93ms/step - loss: 0.3035 - accuracy: 0.8883 - val_loss: 0.5975 - val_accuracy: 0.7960\n94/94 [==============================] - 2s 24ms/step - loss: 0.6174 - accuracy: 0.7897\nLoss,Acc=  [0.6173765659332275, 0.7896666526794434]\n"
    }
   ],
   "source": [
    "layer_size = [32,64,128,256]\n",
    "NAME = \"VGG-32-64-kernel-dropout0.5-0.7-20\"\n",
    "def VGG():\n",
    "    \n",
    "    VGG = Sequential([\n",
    "\n",
    "        Conv2D(layer_size[0],(3,3),(1,1), input_shape=X_train.shape[1:], activation='relu'),\n",
    "        Conv2D(layer_size[0],(3,3),(1,1),activation='relu'),\n",
    "        MaxPool2D(pool_size=(2,2),strides=(2,2)),\n",
    "\n",
    "   \n",
    "        Conv2D(layer_size[1],(3,3),(1,1), activation='relu'),\n",
    "        Conv2D(layer_size[1],(3,3),(1,1), activation='relu'),\n",
    "        MaxPool2D(pool_size=(2,2),strides=(2,2)),\n",
    "\n",
    "        \n",
    "        Conv2D(layer_size[2],(3,3),(1,1), activation='relu'),\n",
    "        Conv2D(layer_size[2],(3,3),(1,1), activation='relu'),\n",
    "        Conv2D(layer_size[2],(3,3),(1,1), activation='relu'),\n",
    "        MaxPool2D(pool_size=(2,2),strides=(2,2)),\n",
    "\n",
    "        \n",
    "        # Conv2D(layer_size[3],(3,3),(1,1), activation='relu'),\n",
    "        # Conv2D(layer_size[3],(3,3),(1,1), activation='relu'),\n",
    "        # Conv2D(layer_size[3],(3,3),(1,1), activation='relu'),\n",
    "        # MaxPool2D(pool_size=(2,2),strides=(2,2)),\n",
    "\n",
    "        \n",
    "        # Conv2D(layer_size[3],(3,3),(1,1), activation='relu'),\n",
    "        # Conv2D(layer_size[3],(3,3),(1,1), activation='relu'),\n",
    "        # Conv2D(layer_size[3],(3,3),(1,1), activation='relu'),\n",
    "        # MaxPool2D(pool_size=(2,2),strides=(2,2)),\n",
    "\n",
    "        Flatten(),\n",
    "        Dropout(0.5),\n",
    "        Dense(1000,activation='relu'),\n",
    "        Dropout(0.7),\n",
    "        Dense(1000,activation='relu'),\n",
    "        Dense(6,activation='softmax'),\n",
    "    ])\n",
    "\n",
    "    return VGG\n",
    "    \n",
    "model = VGG()\n",
    "\n",
    "tensorboard = TensorBoard(log_dir=\"logs/{}\".format(NAME))\n",
    "\n",
    "model.compile(optimizer = 'adam', loss='sparse_categorical_crossentropy', metrics=['accuracy'] )\n",
    "model.summary()\n",
    "\n",
    "with tf.device('/gpu:0'):\n",
    "    model.fit(X_train, y_train, batch_size=32, epochs=20, validation_split=0.3, callbacks =[tensorboard])\n",
    "\n",
    "\n",
    "results = model.evaluate(X_test, y_test, batch_size = 32)\n",
    "print(\"Loss,Acc= \",results)\n",
    "\n"
   ]
  },
  {
   "cell_type": "code",
   "execution_count": 18,
   "metadata": {
    "tags": []
   },
   "outputs": [
    {
     "output_type": "stream",
     "name": "stdout",
     "text": "94/94 [==============================] - 2s 24ms/step - loss: 0.6174 - accuracy: 0.7897\n"
    }
   ],
   "source": [
    "results = model.evaluate(X_test, y_test, batch_size = 32)"
   ]
  },
  {
   "cell_type": "code",
   "execution_count": 19,
   "metadata": {
    "tags": []
   },
   "outputs": [],
   "source": [
    "pred = []\n",
    "prednew = []\n",
    "pred = model.predict([X_test],batch_size=32)\n",
    "for i in range(len(pred)):\n",
    "    prednew.append(np.argmax(pred[i])) "
   ]
  },
  {
   "cell_type": "code",
   "execution_count": 22,
   "metadata": {
    "tags": []
   },
   "outputs": [
    {
     "output_type": "execute_result",
     "data": {
      "text/plain": "<tf.Tensor: shape=(6, 6), dtype=int32, numpy=\narray([[367,   1,   3,   4,  10,  52],\n       [  3, 449,   4,   6,   0,  12],\n       [ 10,  11, 338,  85,  96,  13],\n       [ 18,   7,  70, 358,  71,   1],\n       [ 16,   2,  16,  22, 451,   3],\n       [ 79,   4,   3,   2,   7, 406]])>"
     },
     "metadata": {},
     "execution_count": 22
    }
   ],
   "source": [
    "#confusion matrix\n",
    "\n",
    "tf.math.confusion_matrix(y_test, prednew , num_classes=6)"
   ]
  },
  {
   "cell_type": "code",
   "execution_count": 25,
   "metadata": {
    "tags": []
   },
   "outputs": [
    {
     "output_type": "stream",
     "name": "stdout",
     "text": "buildings\n"
    }
   ],
   "source": [
    "CATEGORIES = ['buildings', 'forest','glacier', 'mountain', 'sea', 'street']\n",
    "def prepare(filepath):\n",
    "    SIZE = 150\n",
    "    img_arr =  cv2.imread(filepath, cv2.IMREAD_GRAYSCALE)\n",
    "    new_arr = cv2.resize(img_arr, (SIZE,SIZE))\n",
    "    return new_arr.reshape(-1, SIZE,SIZE, 1)\n",
    "\n",
    "# model = tf.keras.models.load_model(\"Multiclass.model\")\n",
    "prediction = model.predict([prepare('D:/projects/Scenic images/dataset/seg_pred/seg_pred/347.jpg')])\n",
    "\n",
    "print(CATEGORIES[np.argmax(prediction)])"
   ]
  },
  {
   "cell_type": "code",
   "execution_count": null,
   "metadata": {},
   "outputs": [],
   "source": []
  }
 ]
}